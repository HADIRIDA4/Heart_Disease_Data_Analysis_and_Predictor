{
 "cells": [
  {
   "cell_type": "code",
   "execution_count": null,
   "metadata": {},
   "outputs": [],
   "source": [
    "import pandas_data_handler ,database_handler,lookups\n",
    "import prehook\n",
    "import lookups \n",
    "from misc_handler import return_lookup_items_as_dict\n",
    "import hook"
   ]
  },
  {
   "cell_type": "code",
   "execution_count": null,
   "metadata": {},
   "outputs": [],
   "source": [
    "df_src_list,df_src_titles=prehook.execute_prehook(sql_command_directory_path = 'SQL_COMMANDS',data_source=\"csv\\heart_statlog_cleveland_hungary_final.csv\")\n"
   ]
  },
  {
   "cell_type": "code",
   "execution_count": null,
   "metadata": {},
   "outputs": [],
   "source": [
    "hook.execute_hook(df_src_titles,df_src_list)"
   ]
  },
  {
   "cell_type": "code",
   "execution_count": null,
   "metadata": {},
   "outputs": [],
   "source": [
    "from posthook import execute_posthook\n",
    "execute_posthook()"
   ]
  },
  {
   "cell_type": "code",
   "execution_count": null,
   "metadata": {},
   "outputs": [],
   "source": [
    "\n",
    "from prehook import execute_prehook\n",
    "from hook import execute_hook\n",
    "from posthook import execute_posthook\n",
    "\n",
    "df_src_list,df_src_titles=execute_prehook(sql_command_directory_path = 'SQL_COMMANDS',data_source=\"csv\\heart_statlog_cleveland_hungary_final.csv\")\n",
    "execute_hook(df_src_titles,df_src_list)\n",
    "execute_posthook()\n"
   ]
  }
 ],
 "metadata": {
  "kernelspec": {
   "display_name": "Python 3",
   "language": "python",
   "name": "python3"
  },
  "language_info": {
   "codemirror_mode": {
    "name": "ipython",
    "version": 3
   },
   "file_extension": ".py",
   "mimetype": "text/x-python",
   "name": "python",
   "nbconvert_exporter": "python",
   "pygments_lexer": "ipython3",
   "version": "3.11.4"
  }
 },
 "nbformat": 4,
 "nbformat_minor": 2
}
